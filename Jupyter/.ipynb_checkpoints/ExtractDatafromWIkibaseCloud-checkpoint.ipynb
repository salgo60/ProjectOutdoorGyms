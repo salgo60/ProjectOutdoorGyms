{
 "cells": [
  {
   "cell_type": "markdown",
   "id": "61264617",
   "metadata": {},
   "source": [
    "### Billbords\n",
    "\n",
    "A try to extract data from WIkibase.cloud [SPARQL](https://sweopendata.wikibase.cloud/wiki/Kommuner)\n",
    "\n",
    "* [This Notebook](https://github.com/salgo60/ProjectOutdoorGyms/blob/main/Jupyter/ExtractDatafromWIkibaseCloud.ipynb) -  Non Working\n",
    "  * [SPARQL query](https://tinyurl.com/2dwdoq8q) - Working\n"
   ]
  },
  {
   "cell_type": "code",
   "execution_count": 8,
   "id": "3b871669",
   "metadata": {},
   "outputs": [
    {
     "name": "stdout",
     "output_type": "stream",
     "text": [
      "<class 'pandas.core.frame.DataFrame'>\n",
      "Index: 0 entries\n",
      "Data columns (total 3 columns):\n",
      " #   Column  Non-Null Count  Dtype \n",
      "---  ------  --------------  ----- \n",
      " 0   r       0 non-null      object\n",
      " 1   rLabel  0 non-null      object\n",
      " 2   ref     0 non-null      object\n",
      "dtypes: object(3)\n",
      "memory usage: 0.0+ bytes\n"
     ]
    }
   ],
   "source": [
    "# pip install sparqlwrapper\n",
    "# https://rdflib.github.io/sparqlwrapper/\n",
    "\n",
    "import sys,json\n",
    "import pandas as pd\n",
    "from SPARQLWrapper import SPARQLWrapper, JSON\n",
    "\n",
    "endpoint_url = \"https://sweopendata.wikibase.cloud/query/sparql\" \n",
    "# Query https://tinyurl.com/2dwdoq8q\n",
    "queryAnslagstavla = \"\"\"\n",
    "PREFIX wb: <https://sweopendata.wikibase.cloud/entity/>\n",
    "\n",
    "SELECT  ?r ?rLabel ?ref  WHERE {?r ?s wb:Q240} \"\"\"\n",
    "\n",
    "q2 = \"\"\"PREFIX wb: <https://sweopendata.wikibase.cloud/entity/>\n",
    "PREFIX wbt: <https://sweopendata.wikibase.cloud/prop/direct/>\n",
    "\n",
    "SELECT  ?r ?rLabel ?ref WHERE {\n",
    "   ?r wbt:P2 wb:Q240.\n",
    "   ?r wbt:P11 ?ref\n",
    "SERVICE wikibase:label { bd:serviceParam wikibase:language \"sv\". }\n",
    "}\n",
    "\"\"\"\n",
    "def get_sparql_dataframe(endpoint_url, query):\n",
    "    \"\"\"\n",
    "    Helper function to convert SPARQL results into a Pandas data frame.\n",
    "    \"\"\"\n",
    "    user_agent = \"salgo60/%s.%s\" % (sys.version_info[0], sys.version_info[1])\n",
    " \n",
    "    sparql = SPARQLWrapper(endpoint_url, agent=user_agent)\n",
    "    sparql.setQuery(query)\n",
    "    sparql.setReturnFormat(JSON)\n",
    "    result = sparql.query()\n",
    "\n",
    "    processed_results = json.load(result.response)\n",
    "    cols = processed_results['head']['vars']\n",
    "\n",
    "    out = []\n",
    "    for row in processed_results['results']['bindings']:\n",
    "        item = []\n",
    "        for c in cols:\n",
    "            item.append(row.get(c, {}).get('value'))\n",
    "        out.append(item)\n",
    "\n",
    "    return pd.DataFrame(out, columns=cols)\n",
    "\n",
    "WikibaseAnslagstavla = get_sparql_dataframe(endpoint_url, q2)\n",
    "WikibaseAnslagstavla.info()"
   ]
  },
  {
   "cell_type": "code",
   "execution_count": 9,
   "id": "9e6de0a0",
   "metadata": {},
   "outputs": [],
   "source": [
    "pd.set_option('display.max_columns', 500)\n",
    "pd.set_option('display.width', 1000)\n",
    "WikibaseAnslagstavla.to_csv(\"Anslagstavlor.csv\")"
   ]
  },
  {
   "cell_type": "markdown",
   "id": "e61f4477",
   "metadata": {},
   "source": [
    "Test code example from query editor"
   ]
  },
  {
   "cell_type": "code",
   "execution_count": 12,
   "id": "8974a715",
   "metadata": {},
   "outputs": [],
   "source": [
    "# pip install sparqlwrapper\n",
    "# https://rdflib.github.io/sparqlwrapper/\n",
    "\n",
    "import sys\n",
    "from SPARQLWrapper import SPARQLWrapper, JSON\n",
    "\n",
    "endpoint_url = \"https://sweopendata.wikibase.cloud/query/sparql\"\n",
    "\n",
    "query = \"\"\"PREFIX wb: <https://sweopendata.wikibase.cloud/entity/>\n",
    "\n",
    "SELECT  ?r ?s  WHERE {?r ?s wb:Q240}\"\"\"\n",
    "\n",
    "\n",
    "def get_results(endpoint_url, query):\n",
    "    user_agent = \"WDQS-example Python/%s.%s\" % (sys.version_info[0], sys.version_info[1])\n",
    "    # TODO adjust user agent; see https://w.wiki/CX6\n",
    "    sparql = SPARQLWrapper(endpoint_url, agent=user_agent)\n",
    "    sparql.setQuery(query)\n",
    "    sparql.setReturnFormat(JSON)\n",
    "    return sparql.query().convert()\n",
    "\n",
    "\n",
    "results = get_results(endpoint_url, query)\n",
    "\n",
    "for result in results[\"results\"][\"bindings\"]:\n",
    "    print(result)\n"
   ]
  },
  {
   "cell_type": "code",
   "execution_count": 13,
   "id": "e1b49d17",
   "metadata": {},
   "outputs": [
    {
     "data": {
      "text/plain": [
       "{'head': {'vars': ['r', 's']}, 'results': {'bindings': []}}"
      ]
     },
     "execution_count": 13,
     "metadata": {},
     "output_type": "execute_result"
    }
   ],
   "source": [
    "results"
   ]
  },
  {
   "cell_type": "code",
   "execution_count": null,
   "id": "587301ff",
   "metadata": {},
   "outputs": [],
   "source": []
  }
 ],
 "metadata": {
  "kernelspec": {
   "display_name": "Python 3",
   "language": "python",
   "name": "python3"
  },
  "language_info": {
   "codemirror_mode": {
    "name": "ipython",
    "version": 3
   },
   "file_extension": ".py",
   "mimetype": "text/x-python",
   "name": "python",
   "nbconvert_exporter": "python",
   "pygments_lexer": "ipython3",
   "version": "3.9.13"
  }
 },
 "nbformat": 4,
 "nbformat_minor": 5
}
