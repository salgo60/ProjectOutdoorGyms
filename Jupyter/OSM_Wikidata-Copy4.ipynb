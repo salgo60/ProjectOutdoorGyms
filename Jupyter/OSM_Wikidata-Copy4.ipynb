{
 "cells": [
  {
   "cell_type": "markdown",
   "id": "4a0e87c4",
   "metadata": {},
   "source": [
    "Get all Wikidata objects and checks if they are connected to an OSM object using an [API](https://osm.wikidata.link/tagged)\n",
    "\n",
    "* this [Notebook](https://github.com/salgo60/ProjectOutdoorGyms/blob/main/Jupyter/OSM_Wikidata.ipynb)\n",
    "\n",
    "* API [Wikidata to OpenStreetMap](https://osm.wikidata.link/tagged)\n",
    "  * eg. [https://osm.wikidata.link/tagged/api/item/Q106708773](https://osm.wikidata.link/tagged/api/item/Q106708773)\n",
    "\n",
    "* Another tool [osm.wikidata.link](https://osm.wikidata.link/search)\n",
    "  \n",
    "\n",
    "TODO: \n",
    "* \n"
   ]
  },
  {
   "cell_type": "code",
   "execution_count": null,
   "id": "cc5c1387",
   "metadata": {},
   "outputs": [],
   "source": []
  },
  {
   "cell_type": "code",
   "execution_count": 1,
   "id": "b20809ea",
   "metadata": {
    "scrolled": true
   },
   "outputs": [
    {
     "name": "stdout",
     "output_type": "stream",
     "text": [
      "Last run:  2023-08-01 19:47:41.235111\n"
     ]
    }
   ],
   "source": [
    "from datetime import datetime\n",
    "start_time  = datetime.now()\n",
    "print(\"Last run: \", start_time)"
   ]
  },
  {
   "cell_type": "code",
   "execution_count": 2,
   "id": "903ccc82",
   "metadata": {},
   "outputs": [],
   "source": [
    "import pandas as pd\n"
   ]
  },
  {
   "cell_type": "code",
   "execution_count": 3,
   "id": "1f3346e9",
   "metadata": {},
   "outputs": [
    {
     "data": {
      "text/plain": [
       "(42543, 3)"
      ]
     },
     "execution_count": 3,
     "metadata": {},
     "output_type": "execute_result"
    }
   ],
   "source": [
    "#\n",
    "# pip install sparqlwrapper\n",
    "# https://rdflib.github.io/sparqlwrapper/\n",
    "\n",
    "import sys,json\n",
    "from SPARQLWrapper import SPARQLWrapper, JSON\n",
    "\n",
    "endpoint_url = \"https://query.wikidata.org/sparql\"\n",
    " \n",
    "#\n",
    "queryWD = \"\"\"SELECT DISTINCT (REPLACE(STR(?site), \".*Q\", \"Q\") AS ?qid) ?site WHERE {\n",
    "  #?site wdt:P17 wd:Q33. \n",
    "  #?site wdt:P17/wdt:P30 wd:Q46. #Europe\n",
    "  ?site wdt:P31/wdt:P279* wd:Q46831.\n",
    "  ?site wdt:P625 ?coordinates.\n",
    "   minus {\n",
    "    { ?site wdt:P10689 ?OSMid. }\n",
    "    UNION\n",
    "    { ?site wdt:P402 ?OSMrelid. }\n",
    "    UNION \n",
    "    { ?site wdt:P11693 ?OSMnode. }\n",
    "  }\n",
    "}\"\"\"\n",
    "\n",
    "\n",
    "def get_sparql_dataframe(endpoint_url, query):\n",
    "    \"\"\"\n",
    "    Helper function to convert SPARQL results into a Pandas data frame.\n",
    "    \"\"\"\n",
    "    user_agent = \"salgo60/%s.%s\" % (sys.version_info[0], sys.version_info[1])\n",
    " \n",
    "    sparql = SPARQLWrapper(endpoint_url, agent=user_agent)\n",
    "    sparql.setQuery(query)\n",
    "    sparql.setReturnFormat(JSON)\n",
    "    result = sparql.query()\n",
    "\n",
    "    processed_results = json.load(result.response)\n",
    "    cols = processed_results['head']['vars']\n",
    "\n",
    "    out = []\n",
    "    for row in processed_results['results']['bindings']:\n",
    "        item = []\n",
    "        for c in cols:\n",
    "            item.append(row.get(c, {}).get('value'))\n",
    "        out.append(item)\n",
    "\n",
    "    return pd.DataFrame(out, columns=cols)\n",
    "\n",
    "WDo = get_sparql_dataframe(endpoint_url, queryWD )\n",
    "WDo[\"Source\"] = \"WD\"     \n",
    "WDo.shape"
   ]
  },
  {
   "cell_type": "code",
   "execution_count": 4,
   "id": "f7c09c8c",
   "metadata": {},
   "outputs": [
    {
     "data": {
      "text/html": [
       "<div>\n",
       "<style scoped>\n",
       "    .dataframe tbody tr th:only-of-type {\n",
       "        vertical-align: middle;\n",
       "    }\n",
       "\n",
       "    .dataframe tbody tr th {\n",
       "        vertical-align: top;\n",
       "    }\n",
       "\n",
       "    .dataframe thead th {\n",
       "        text-align: right;\n",
       "    }\n",
       "</style>\n",
       "<table border=\"1\" class=\"dataframe\">\n",
       "  <thead>\n",
       "    <tr style=\"text-align: right;\">\n",
       "      <th></th>\n",
       "      <th>qid</th>\n",
       "      <th>site</th>\n",
       "      <th>Source</th>\n",
       "    </tr>\n",
       "  </thead>\n",
       "  <tbody>\n",
       "    <tr>\n",
       "      <th>0</th>\n",
       "      <td>Q72307</td>\n",
       "      <td>http://www.wikidata.org/entity/Q72307</td>\n",
       "      <td>WD</td>\n",
       "    </tr>\n",
       "    <tr>\n",
       "      <th>1</th>\n",
       "      <td>Q72931</td>\n",
       "      <td>http://www.wikidata.org/entity/Q72931</td>\n",
       "      <td>WD</td>\n",
       "    </tr>\n",
       "    <tr>\n",
       "      <th>2</th>\n",
       "      <td>Q72989</td>\n",
       "      <td>http://www.wikidata.org/entity/Q72989</td>\n",
       "      <td>WD</td>\n",
       "    </tr>\n",
       "    <tr>\n",
       "      <th>3</th>\n",
       "      <td>Q73004</td>\n",
       "      <td>http://www.wikidata.org/entity/Q73004</td>\n",
       "      <td>WD</td>\n",
       "    </tr>\n",
       "    <tr>\n",
       "      <th>4</th>\n",
       "      <td>Q74259</td>\n",
       "      <td>http://www.wikidata.org/entity/Q74259</td>\n",
       "      <td>WD</td>\n",
       "    </tr>\n",
       "  </tbody>\n",
       "</table>\n",
       "</div>"
      ],
      "text/plain": [
       "      qid                                   site Source\n",
       "0  Q72307  http://www.wikidata.org/entity/Q72307     WD\n",
       "1  Q72931  http://www.wikidata.org/entity/Q72931     WD\n",
       "2  Q72989  http://www.wikidata.org/entity/Q72989     WD\n",
       "3  Q73004  http://www.wikidata.org/entity/Q73004     WD\n",
       "4  Q74259  http://www.wikidata.org/entity/Q74259     WD"
      ]
     },
     "execution_count": 4,
     "metadata": {},
     "output_type": "execute_result"
    }
   ],
   "source": [
    "WDo.head()"
   ]
  },
  {
   "cell_type": "code",
   "execution_count": 5,
   "id": "518ba6fe",
   "metadata": {},
   "outputs": [
    {
     "name": "stderr",
     "output_type": "stream",
     "text": [
      "100%|██████████| 42543/42543 [3:52:59<00:00,  3.04it/s]   "
     ]
    },
    {
     "name": "stdout",
     "output_type": "stream",
     "text": [
      "42543\n"
     ]
    },
    {
     "name": "stderr",
     "output_type": "stream",
     "text": [
      "\n"
     ]
    }
   ],
   "source": [
    "import urllib3, json\n",
    "from tqdm import tqdm\n",
    "http = urllib3.PoolManager()\n",
    "\n",
    "listWDo = []\n",
    "for WD, row in tqdm(WDo.iterrows(), total=WDo.shape[0]):\n",
    "    url = \"https://osm.wikidata.link/tagged/api/item/\" + row[\"qid\"] \n",
    "    \n",
    "    new_item = dict()\n",
    "    new_item['wikidata'] = row[\"qid\"] \n",
    "    try:\n",
    "        r = http.request('GET', url) \n",
    "        data = json.loads(r.data.decode('utf-8'))\n",
    "    except:\n",
    "        print (r.status, url)\n",
    "    #print (r.status)\n",
    "    try:\n",
    "        #print(data)\n",
    "        osmid = data[\"osm\"][0][\"id\"]            \n",
    "        osmtype = data[\"osm\"][0][\"type\"]              \n",
    "    except:\n",
    "        #print (\"error\")\n",
    "        #print(data)\n",
    "        osmid =\"\"\n",
    "        osmtype =\"\"\n",
    "    new_item['osmid'] = osmid  \n",
    "    new_item['type'] = osmtype \n",
    "    \n",
    "    listWDo.append(new_item)\n",
    "print (len(listWDo))"
   ]
  },
  {
   "cell_type": "code",
   "execution_count": 6,
   "id": "97bb95a8",
   "metadata": {},
   "outputs": [
    {
     "data": {
      "text/plain": [
       "(42543, 3)"
      ]
     },
     "execution_count": 6,
     "metadata": {},
     "output_type": "execute_result"
    }
   ],
   "source": [
    "OSMtot = pd.DataFrame(listWDo,\n",
    "                  columns=['wikidata','type','osmid'])\n",
    "OSMtot.shape\n"
   ]
  },
  {
   "cell_type": "code",
   "execution_count": 7,
   "id": "a36b2560",
   "metadata": {},
   "outputs": [
    {
     "data": {
      "text/html": [
       "<div>\n",
       "<style scoped>\n",
       "    .dataframe tbody tr th:only-of-type {\n",
       "        vertical-align: middle;\n",
       "    }\n",
       "\n",
       "    .dataframe tbody tr th {\n",
       "        vertical-align: top;\n",
       "    }\n",
       "\n",
       "    .dataframe thead th {\n",
       "        text-align: right;\n",
       "    }\n",
       "</style>\n",
       "<table border=\"1\" class=\"dataframe\">\n",
       "  <thead>\n",
       "    <tr style=\"text-align: right;\">\n",
       "      <th></th>\n",
       "      <th>wikidata</th>\n",
       "      <th>type</th>\n",
       "      <th>osmid</th>\n",
       "    </tr>\n",
       "  </thead>\n",
       "  <tbody>\n",
       "    <tr>\n",
       "      <th>0</th>\n",
       "      <td>Q72307</td>\n",
       "      <td>relation</td>\n",
       "      <td>14019460</td>\n",
       "    </tr>\n",
       "    <tr>\n",
       "      <th>1</th>\n",
       "      <td>Q72931</td>\n",
       "      <td></td>\n",
       "      <td></td>\n",
       "    </tr>\n",
       "    <tr>\n",
       "      <th>2</th>\n",
       "      <td>Q72989</td>\n",
       "      <td></td>\n",
       "      <td></td>\n",
       "    </tr>\n",
       "    <tr>\n",
       "      <th>3</th>\n",
       "      <td>Q73004</td>\n",
       "      <td></td>\n",
       "      <td></td>\n",
       "    </tr>\n",
       "    <tr>\n",
       "      <th>4</th>\n",
       "      <td>Q74259</td>\n",
       "      <td>node</td>\n",
       "      <td>4855618221</td>\n",
       "    </tr>\n",
       "    <tr>\n",
       "      <th>5</th>\n",
       "      <td>Q75596</td>\n",
       "      <td>node</td>\n",
       "      <td>1208394572</td>\n",
       "    </tr>\n",
       "    <tr>\n",
       "      <th>6</th>\n",
       "      <td>Q76034</td>\n",
       "      <td></td>\n",
       "      <td></td>\n",
       "    </tr>\n",
       "    <tr>\n",
       "      <th>7</th>\n",
       "      <td>Q76570</td>\n",
       "      <td></td>\n",
       "      <td></td>\n",
       "    </tr>\n",
       "    <tr>\n",
       "      <th>8</th>\n",
       "      <td>Q83788</td>\n",
       "      <td></td>\n",
       "      <td></td>\n",
       "    </tr>\n",
       "    <tr>\n",
       "      <th>9</th>\n",
       "      <td>Q84155</td>\n",
       "      <td></td>\n",
       "      <td></td>\n",
       "    </tr>\n",
       "  </tbody>\n",
       "</table>\n",
       "</div>"
      ],
      "text/plain": [
       "  wikidata      type       osmid\n",
       "0   Q72307  relation    14019460\n",
       "1   Q72931                      \n",
       "2   Q72989                      \n",
       "3   Q73004                      \n",
       "4   Q74259      node  4855618221\n",
       "5   Q75596      node  1208394572\n",
       "6   Q76034                      \n",
       "7   Q76570                      \n",
       "8   Q83788                      \n",
       "9   Q84155                      "
      ]
     },
     "execution_count": 7,
     "metadata": {},
     "output_type": "execute_result"
    }
   ],
   "source": [
    "pd.set_option('max_colwidth', 400)\n",
    "OSMtot.head(10)"
   ]
  },
  {
   "cell_type": "code",
   "execution_count": 8,
   "id": "5073b2d5",
   "metadata": {},
   "outputs": [
    {
     "data": {
      "text/plain": [
       "(40858, 3)"
      ]
     },
     "execution_count": 8,
     "metadata": {},
     "output_type": "execute_result"
    }
   ],
   "source": [
    "#OSMempty = OSMtot.osmid.notnull()\n",
    "OSMtot[(OSMtot['osmid']==\"\")].shape"
   ]
  },
  {
   "cell_type": "code",
   "execution_count": 9,
   "id": "131b6b52",
   "metadata": {},
   "outputs": [],
   "source": [
    "OSMEmpty =OSMtot[(OSMtot['osmid']==\"\")]"
   ]
  },
  {
   "cell_type": "code",
   "execution_count": 10,
   "id": "49eb18cb",
   "metadata": {},
   "outputs": [
    {
     "data": {
      "text/plain": [
       "(40858, 3)"
      ]
     },
     "execution_count": 10,
     "metadata": {},
     "output_type": "execute_result"
    }
   ],
   "source": [
    "OSMEmpty.shape"
   ]
  },
  {
   "cell_type": "code",
   "execution_count": 11,
   "id": "d5ce300a",
   "metadata": {},
   "outputs": [
    {
     "data": {
      "text/html": [
       "<div>\n",
       "<style scoped>\n",
       "    .dataframe tbody tr th:only-of-type {\n",
       "        vertical-align: middle;\n",
       "    }\n",
       "\n",
       "    .dataframe tbody tr th {\n",
       "        vertical-align: top;\n",
       "    }\n",
       "\n",
       "    .dataframe thead th {\n",
       "        text-align: right;\n",
       "    }\n",
       "</style>\n",
       "<table border=\"1\" class=\"dataframe\">\n",
       "  <thead>\n",
       "    <tr style=\"text-align: right;\">\n",
       "      <th></th>\n",
       "      <th>wikidata</th>\n",
       "      <th>type</th>\n",
       "      <th>osmid</th>\n",
       "    </tr>\n",
       "  </thead>\n",
       "  <tbody>\n",
       "    <tr>\n",
       "      <th>1</th>\n",
       "      <td>Q72931</td>\n",
       "      <td></td>\n",
       "      <td></td>\n",
       "    </tr>\n",
       "    <tr>\n",
       "      <th>2</th>\n",
       "      <td>Q72989</td>\n",
       "      <td></td>\n",
       "      <td></td>\n",
       "    </tr>\n",
       "    <tr>\n",
       "      <th>3</th>\n",
       "      <td>Q73004</td>\n",
       "      <td></td>\n",
       "      <td></td>\n",
       "    </tr>\n",
       "    <tr>\n",
       "      <th>6</th>\n",
       "      <td>Q76034</td>\n",
       "      <td></td>\n",
       "      <td></td>\n",
       "    </tr>\n",
       "    <tr>\n",
       "      <th>7</th>\n",
       "      <td>Q76570</td>\n",
       "      <td></td>\n",
       "      <td></td>\n",
       "    </tr>\n",
       "  </tbody>\n",
       "</table>\n",
       "</div>"
      ],
      "text/plain": [
       "  wikidata type osmid\n",
       "1   Q72931           \n",
       "2   Q72989           \n",
       "3   Q73004           \n",
       "6   Q76034           \n",
       "7   Q76570           "
      ]
     },
     "execution_count": 11,
     "metadata": {},
     "output_type": "execute_result"
    }
   ],
   "source": [
    "OSMEmpty.to_csv(\"WD - OSM mountain missing.csv\")\n",
    "\n",
    "OSMEmpty.head()"
   ]
  },
  {
   "cell_type": "code",
   "execution_count": 12,
   "id": "a2e14af2",
   "metadata": {},
   "outputs": [
    {
     "data": {
      "text/html": [
       "<div>\n",
       "<style scoped>\n",
       "    .dataframe tbody tr th:only-of-type {\n",
       "        vertical-align: middle;\n",
       "    }\n",
       "\n",
       "    .dataframe tbody tr th {\n",
       "        vertical-align: top;\n",
       "    }\n",
       "\n",
       "    .dataframe thead th {\n",
       "        text-align: right;\n",
       "    }\n",
       "</style>\n",
       "<table border=\"1\" class=\"dataframe\">\n",
       "  <thead>\n",
       "    <tr style=\"text-align: right;\">\n",
       "      <th></th>\n",
       "      <th>wikidata</th>\n",
       "      <th>type</th>\n",
       "      <th>osmid</th>\n",
       "    </tr>\n",
       "  </thead>\n",
       "  <tbody>\n",
       "    <tr>\n",
       "      <th>0</th>\n",
       "      <td>Q72307</td>\n",
       "      <td>relation</td>\n",
       "      <td>14019460</td>\n",
       "    </tr>\n",
       "    <tr>\n",
       "      <th>4</th>\n",
       "      <td>Q74259</td>\n",
       "      <td>node</td>\n",
       "      <td>4855618221</td>\n",
       "    </tr>\n",
       "    <tr>\n",
       "      <th>5</th>\n",
       "      <td>Q75596</td>\n",
       "      <td>node</td>\n",
       "      <td>1208394572</td>\n",
       "    </tr>\n",
       "    <tr>\n",
       "      <th>10</th>\n",
       "      <td>Q93332</td>\n",
       "      <td>node</td>\n",
       "      <td>4857603223</td>\n",
       "    </tr>\n",
       "    <tr>\n",
       "      <th>11</th>\n",
       "      <td>Q105274</td>\n",
       "      <td>node</td>\n",
       "      <td>5835016385</td>\n",
       "    </tr>\n",
       "  </tbody>\n",
       "</table>\n",
       "</div>"
      ],
      "text/plain": [
       "   wikidata      type       osmid\n",
       "0    Q72307  relation    14019460\n",
       "4    Q74259      node  4855618221\n",
       "5    Q75596      node  1208394572\n",
       "10   Q93332      node  4857603223\n",
       "11  Q105274      node  5835016385"
      ]
     },
     "execution_count": 12,
     "metadata": {},
     "output_type": "execute_result"
    }
   ],
   "source": [
    "OSMConnected=OSMtot[(OSMtot['osmid']!=\"\")]\n",
    "OSMConnected.to_csv(\"WD - OSM_mountain.csv\")\n",
    "OSMConnected.head()"
   ]
  },
  {
   "cell_type": "code",
   "execution_count": 13,
   "id": "0325b013",
   "metadata": {},
   "outputs": [
    {
     "name": "stdout",
     "output_type": "stream",
     "text": [
      "* 20230801 WD objects 42543 ej OSM kopplade 40858\n"
     ]
    }
   ],
   "source": [
    "print(\"*\", start_time.strftime(\"%Y%m%d\"),\"WD objects\", WDo.shape[0], \"ej OSM kopplade\",OSMEmpty.shape[0]) \n"
   ]
  },
  {
   "cell_type": "markdown",
   "id": "0c4d6920",
   "metadata": {},
   "source": [
    "Generate Markdown table eg.\n",
    "| 20210526     | 2802 | 2050 |1147 | 254 | 213| 84|\n"
   ]
  },
  {
   "cell_type": "code",
   "execution_count": 14,
   "id": "443cee0d",
   "metadata": {},
   "outputs": [
    {
     "name": "stdout",
     "output_type": "stream",
     "text": [
      "| 20230801 | 42543 | 40858 |\n"
     ]
    }
   ],
   "source": [
    "print(\"|\",start_time.strftime(\"%Y%m%d\"),\"|\", \\\n",
    "      WDo.shape[0],\"|\",OSMEmpty.wikidata.nunique(),\"|\")\n"
   ]
  },
  {
   "cell_type": "code",
   "execution_count": 15,
   "id": "3ba992e0",
   "metadata": {},
   "outputs": [
    {
     "name": "stdout",
     "output_type": "stream",
     "text": [
      "Ended:  2023-08-01 23:40:46.845889\n",
      "Time elapsed (hh:mm:ss.ms) 3:53:05.611062\n"
     ]
    }
   ],
   "source": [
    "end = datetime.now()\n",
    "print(\"Ended: \", end) \n",
    "print('Time elapsed (hh:mm:ss.ms) {}'.format(datetime.now() - start_time))"
   ]
  },
  {
   "cell_type": "code",
   "execution_count": null,
   "id": "0f37d30b",
   "metadata": {},
   "outputs": [],
   "source": []
  },
  {
   "cell_type": "code",
   "execution_count": null,
   "id": "fb296329",
   "metadata": {},
   "outputs": [],
   "source": []
  },
  {
   "cell_type": "code",
   "execution_count": null,
   "id": "324afde3",
   "metadata": {},
   "outputs": [],
   "source": []
  }
 ],
 "metadata": {
  "kernelspec": {
   "display_name": "Python 3",
   "language": "python",
   "name": "python3"
  },
  "language_info": {
   "codemirror_mode": {
    "name": "ipython",
    "version": 3
   },
   "file_extension": ".py",
   "mimetype": "text/x-python",
   "name": "python",
   "nbconvert_exporter": "python",
   "pygments_lexer": "ipython3",
   "version": "3.9.13"
  }
 },
 "nbformat": 4,
 "nbformat_minor": 5
}
