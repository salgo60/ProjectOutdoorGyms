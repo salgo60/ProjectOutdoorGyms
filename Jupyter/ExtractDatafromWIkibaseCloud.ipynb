{
 "cells": [
  {
   "cell_type": "markdown",
   "id": "61264617",
   "metadata": {},
   "source": [
    "### Billboards\n",
    "\n",
    "A try to extract data from WIkibase.cloud [SPARQL](https://sweopendata.wikibase.cloud/wiki/Kommuner)\n",
    "\n",
    "* [This Notebook](https://github.com/salgo60/ProjectOutdoorGyms/blob/main/Jupyter/ExtractDatafromWIkibaseCloud.ipynb) \n",
    "  * [SPARQL query](https://tinyurl.com/2mm43xsv) \n"
   ]
  },
  {
   "cell_type": "code",
   "execution_count": 17,
   "id": "21b6269d",
   "metadata": {},
   "outputs": [
    {
     "name": "stdout",
     "output_type": "stream",
     "text": [
      "293\n"
     ]
    },
    {
     "data": {
      "text/html": [
       "<div>\n",
       "<style scoped>\n",
       "    .dataframe tbody tr th:only-of-type {\n",
       "        vertical-align: middle;\n",
       "    }\n",
       "\n",
       "    .dataframe tbody tr th {\n",
       "        vertical-align: top;\n",
       "    }\n",
       "\n",
       "    .dataframe thead th {\n",
       "        text-align: right;\n",
       "    }\n",
       "</style>\n",
       "<table border=\"1\" class=\"dataframe\">\n",
       "  <thead>\n",
       "    <tr style=\"text-align: right;\">\n",
       "      <th></th>\n",
       "      <th>k</th>\n",
       "      <th>kLabel</th>\n",
       "      <th>ref</th>\n",
       "    </tr>\n",
       "  </thead>\n",
       "  <tbody>\n",
       "    <tr>\n",
       "      <th>0</th>\n",
       "      <td>https://sweopendata.wikibase.cloud/entity/Q387</td>\n",
       "      <td>Ale kommuns anslagstavla</td>\n",
       "      <td>https://www.ale.se/kommun--politik/anslagstavl...</td>\n",
       "    </tr>\n",
       "    <tr>\n",
       "      <th>1</th>\n",
       "      <td>https://sweopendata.wikibase.cloud/entity/Q547</td>\n",
       "      <td>Alingsås kommuns digitala anslagstavla</td>\n",
       "      <td>https://www.tjorn.se/kommun-och-politik/motest...</td>\n",
       "    </tr>\n",
       "    <tr>\n",
       "      <th>2</th>\n",
       "      <td>https://sweopendata.wikibase.cloud/entity/Q538</td>\n",
       "      <td>Alvesta kommuns digitala anslagstavla</td>\n",
       "      <td>https://www.alvesta.se/om-kommunen/alvesta-kom...</td>\n",
       "    </tr>\n",
       "    <tr>\n",
       "      <th>3</th>\n",
       "      <td>https://sweopendata.wikibase.cloud/entity/Q531</td>\n",
       "      <td>Aneby kommuns anslagstavla</td>\n",
       "      <td>https://www.aneby.se/arkiv/digital-anslagstavl...</td>\n",
       "    </tr>\n",
       "    <tr>\n",
       "      <th>4</th>\n",
       "      <td>https://sweopendata.wikibase.cloud/entity/Q398</td>\n",
       "      <td>Arboga kommuns officiella anslagstavla</td>\n",
       "      <td>https://www.arboga.se/kommun--politik/beslut-i...</td>\n",
       "    </tr>\n",
       "  </tbody>\n",
       "</table>\n",
       "</div>"
      ],
      "text/plain": [
       "                                                k                                  kLabel                                                ref\n",
       "0  https://sweopendata.wikibase.cloud/entity/Q387                Ale kommuns anslagstavla  https://www.ale.se/kommun--politik/anslagstavl...\n",
       "1  https://sweopendata.wikibase.cloud/entity/Q547  Alingsås kommuns digitala anslagstavla  https://www.tjorn.se/kommun-och-politik/motest...\n",
       "2  https://sweopendata.wikibase.cloud/entity/Q538   Alvesta kommuns digitala anslagstavla  https://www.alvesta.se/om-kommunen/alvesta-kom...\n",
       "3  https://sweopendata.wikibase.cloud/entity/Q531              Aneby kommuns anslagstavla  https://www.aneby.se/arkiv/digital-anslagstavl...\n",
       "4  https://sweopendata.wikibase.cloud/entity/Q398  Arboga kommuns officiella anslagstavla  https://www.arboga.se/kommun--politik/beslut-i..."
      ]
     },
     "execution_count": 17,
     "metadata": {},
     "output_type": "execute_result"
    }
   ],
   "source": [
    "import pandas\n",
    "import pydash\n",
    "import requests\n",
    "\n",
    "def value_extract(row, col):\n",
    "\n",
    "    \"\"\"Extract dictionary values.\"\"\"\n",
    "\n",
    "    return pydash.get(row[col], \"value\")\n",
    "\n",
    "def sparql_query(query, service):\n",
    "\n",
    "    \"\"\"Send sparql request, and formulate results into a dataframe.\"\"\"\n",
    "\n",
    "    r = requests.get(service, params={\"format\": \"json\", \"query\": query})\n",
    "    data = pydash.get(r.json(), \"results.bindings\")\n",
    "    data = pandas.DataFrame.from_dict(data)\n",
    "    for x in data.columns:\n",
    "        data[x] = data.apply(value_extract, col=x, axis=1)\n",
    "    return data\n",
    "\n",
    "query = \"\"\"\n",
    "prefix rdfs: <http://www.w3.org/2000/01/rdf-schema#>\n",
    "prefix swe: <https://sweopendata.wikibase.cloud/entity/>\n",
    "prefix swet: <https://sweopendata.wikibase.cloud/prop/direct/>\n",
    "\n",
    "select distinct ?k ?kLabel ?ref\n",
    "where { \n",
    "    ?k swet:P2 swe:Q240.\n",
    "    ?k swet:P11 ?ref.\n",
    "\n",
    " SERVICE wikibase:label { bd:serviceParam wikibase:language \"sv,en\". }\n",
    "} order by ?kLabel \"\"\"\n",
    "\n",
    "dataframe = sparql_query(query, \"https://sweopendata.wikibase.cloud/query/sparql\")\n",
    "print(len(dataframe))\n",
    "dataframe.head()"
   ]
  },
  {
   "cell_type": "code",
   "execution_count": 18,
   "id": "fb2779c1",
   "metadata": {},
   "outputs": [],
   "source": [
    "dataframe.to_csv(\"Anslagstavla.csv\")"
   ]
  },
  {
   "cell_type": "code",
   "execution_count": null,
   "id": "b0fffa58",
   "metadata": {},
   "outputs": [],
   "source": []
  }
 ],
 "metadata": {
  "kernelspec": {
   "display_name": "Python 3",
   "language": "python",
   "name": "python3"
  },
  "language_info": {
   "codemirror_mode": {
    "name": "ipython",
    "version": 3
   },
   "file_extension": ".py",
   "mimetype": "text/x-python",
   "name": "python",
   "nbconvert_exporter": "python",
   "pygments_lexer": "ipython3",
   "version": "3.9.13"
  }
 },
 "nbformat": 4,
 "nbformat_minor": 5
}
