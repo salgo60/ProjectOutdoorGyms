{
 "cells": [
  {
   "cell_type": "markdown",
   "id": "4a0e87c4",
   "metadata": {},
   "source": [
    "Get all Outdoor Gyms in this project from Wikidata and checks if they are connected to an OSM object using an [API](https://osm.wikidata.link/tagged)\n",
    "\n",
    "* The project: [github salgo60/ProjectOutdoorGyms](https://github.com/salgo60/ProjectOutdoorGyms)\n",
    "* this [Notebook](https://github.com/salgo60/ProjectOutdoorGyms/blob/main/Jupyter/OSM_Wikidata_OutdoorGyms.ipynb)\n",
    "\n",
    "* API [Wikidata to OpenStreetMap](https://osm.wikidata.link/tagged)\n",
    "  * eg. [https://osm.wikidata.link/tagged/api/item/Q106708773](https://osm.wikidata.link/tagged/api/item/Q106708773)\n",
    "\n",
    "* Another tool [osm.wikidata.link](https://osm.wikidata.link/search)\n",
    "  \n",
    "Status:  \n",
    "\n",
    "\n",
    "\n",
    "| Date | Outdoor Gym | no WD - OSM | \n",
    "| ------------- |:-------------:| -----:|\n",
    "| 20230730 | 1794 | 1351 |\n",
    "| 20220923 | 1762 | 1430 |\n",
    "| 20220818 | 1717 | 1372 | \n",
    "| 20220529 | 1464 | 1217 |\n",
    "| 20211119 | 1439 | 1121 |\n",
    "| 20210917 | 1434 | 1116 |\n",
    "| 20210823 | 1415 | 1105 |\n",
    "| 20210717 | 1193 | 1024 |\n",
    "| 20210712 | 1131 | 979 |\n",
    "| 20210706 | 809 | 706 |\n",
    "| 20210614 | 216 | 203 |\n",
    "\n",
    "\n",
    "TODO: \n",
    "* \n"
   ]
  },
  {
   "cell_type": "code",
   "execution_count": 1,
   "id": "b20809ea",
   "metadata": {},
   "outputs": [
    {
     "name": "stdout",
     "output_type": "stream",
     "text": [
      "Last run:  2023-07-30 15:02:49.775138\n"
     ]
    }
   ],
   "source": [
    "from datetime import datetime\n",
    "start_time  = datetime.now()\n",
    "print(\"Last run: \", start_time)"
   ]
  },
  {
   "cell_type": "code",
   "execution_count": 2,
   "id": "903ccc82",
   "metadata": {},
   "outputs": [],
   "source": [
    "import pandas as pd\n"
   ]
  },
  {
   "cell_type": "code",
   "execution_count": 3,
   "id": "1f3346e9",
   "metadata": {},
   "outputs": [
    {
     "data": {
      "text/plain": [
       "(1794, 3)"
      ]
     },
     "execution_count": 3,
     "metadata": {},
     "output_type": "execute_result"
    }
   ],
   "source": [
    "#\n",
    "# pip install sparqlwrapper\n",
    "# https://rdflib.github.io/sparqlwrapper/\n",
    "\n",
    "import sys,json\n",
    "from SPARQLWrapper import SPARQLWrapper, JSON\n",
    "\n",
    "endpoint_url = \"https://query.wikidata.org/sparql\"\n",
    " \n",
    "# https://w.wiki/3Uni\n",
    "queryGym = \"\"\"SELECT (REPLACE(STR(?node), \".*Q\", \"Q\") AS ?qid) ?nodeLabel WHERE {\n",
    "  VALUES ?nodeProj {wd:Q107186275}\n",
    "  ?node wdt:P6104 ?nodeProj.\n",
    "  minus   { ?node wikibase:propertyType ?type} # not properties\n",
    "#  minus {?node wdt:P10689 ?osm} # already connected\n",
    "\n",
    "  SERVICE wikibase:label { bd:serviceParam wikibase:language \"sv,en\". }\n",
    "}\n",
    "ORDER BY (?nodeLabel)\"\"\"\n",
    "\n",
    "\n",
    "def get_sparql_dataframe(endpoint_url, query):\n",
    "    \"\"\"\n",
    "    Helper function to convert SPARQL results into a Pandas data frame.\n",
    "    \"\"\"\n",
    "    user_agent = \"salgo60/%s.%s\" % (sys.version_info[0], sys.version_info[1])\n",
    " \n",
    "    sparql = SPARQLWrapper(endpoint_url, agent=user_agent)\n",
    "    sparql.setQuery(query)\n",
    "    sparql.setReturnFormat(JSON)\n",
    "    result = sparql.query()\n",
    "\n",
    "    processed_results = json.load(result.response)\n",
    "    cols = processed_results['head']['vars']\n",
    "\n",
    "    out = []\n",
    "    for row in processed_results['results']['bindings']:\n",
    "        item = []\n",
    "        for c in cols:\n",
    "            item.append(row.get(c, {}).get('value'))\n",
    "        out.append(item)\n",
    "\n",
    "    return pd.DataFrame(out, columns=cols)\n",
    "\n",
    "WDGym = get_sparql_dataframe(endpoint_url, queryGym)\n",
    "WDGym[\"Source\"] = \"WD\"     \n",
    "WDGym.shape"
   ]
  },
  {
   "cell_type": "code",
   "execution_count": 4,
   "id": "f7c09c8c",
   "metadata": {},
   "outputs": [
    {
     "data": {
      "text/html": [
       "<div>\n",
       "<style scoped>\n",
       "    .dataframe tbody tr th:only-of-type {\n",
       "        vertical-align: middle;\n",
       "    }\n",
       "\n",
       "    .dataframe tbody tr th {\n",
       "        vertical-align: top;\n",
       "    }\n",
       "\n",
       "    .dataframe thead th {\n",
       "        text-align: right;\n",
       "    }\n",
       "</style>\n",
       "<table border=\"1\" class=\"dataframe\">\n",
       "  <thead>\n",
       "    <tr style=\"text-align: right;\">\n",
       "      <th></th>\n",
       "      <th>qid</th>\n",
       "      <th>nodeLabel</th>\n",
       "      <th>Source</th>\n",
       "    </tr>\n",
       "  </thead>\n",
       "  <tbody>\n",
       "    <tr>\n",
       "      <th>0</th>\n",
       "      <td>Q107206033</td>\n",
       "      <td>Q107206033</td>\n",
       "      <td>WD</td>\n",
       "    </tr>\n",
       "    <tr>\n",
       "      <th>1</th>\n",
       "      <td>Q107206129</td>\n",
       "      <td>Q107206129</td>\n",
       "      <td>WD</td>\n",
       "    </tr>\n",
       "    <tr>\n",
       "      <th>2</th>\n",
       "      <td>Q107315418</td>\n",
       "      <td>Q107315418</td>\n",
       "      <td>WD</td>\n",
       "    </tr>\n",
       "    <tr>\n",
       "      <th>3</th>\n",
       "      <td>Q107326096</td>\n",
       "      <td>Q107326096</td>\n",
       "      <td>WD</td>\n",
       "    </tr>\n",
       "    <tr>\n",
       "      <th>4</th>\n",
       "      <td>Q107327233</td>\n",
       "      <td>Q107327233</td>\n",
       "      <td>WD</td>\n",
       "    </tr>\n",
       "  </tbody>\n",
       "</table>\n",
       "</div>"
      ],
      "text/plain": [
       "          qid   nodeLabel Source\n",
       "0  Q107206033  Q107206033     WD\n",
       "1  Q107206129  Q107206129     WD\n",
       "2  Q107315418  Q107315418     WD\n",
       "3  Q107326096  Q107326096     WD\n",
       "4  Q107327233  Q107327233     WD"
      ]
     },
     "execution_count": 4,
     "metadata": {},
     "output_type": "execute_result"
    }
   ],
   "source": [
    "WDGym.head()"
   ]
  },
  {
   "cell_type": "code",
   "execution_count": 5,
   "id": "518ba6fe",
   "metadata": {},
   "outputs": [
    {
     "name": "stderr",
     "output_type": "stream",
     "text": [
      "100%|██████████| 1794/1794 [06:12<00:00,  4.81it/s]"
     ]
    },
    {
     "name": "stdout",
     "output_type": "stream",
     "text": [
      "1794\n"
     ]
    },
    {
     "name": "stderr",
     "output_type": "stream",
     "text": [
      "\n"
     ]
    }
   ],
   "source": [
    "import urllib3, json\n",
    "from tqdm import tqdm\n",
    "http = urllib3.PoolManager()\n",
    "\n",
    "listGym = []\n",
    "for WD, row in tqdm(WDGym.iterrows(), total=WDGym.shape[0]):\n",
    "    url = \"https://osm.wikidata.link/tagged/api/item/\" + row[\"qid\"] \n",
    "    \n",
    "    new_item = dict()\n",
    "    new_item['wikidata'] = row[\"qid\"] \n",
    "    try:\n",
    "        r = http.request('GET', url) \n",
    "        data = json.loads(r.data.decode('utf-8'))\n",
    "    except:\n",
    "        print (r.status, url)\n",
    "    #print (r.status)\n",
    "    try:\n",
    "        #print(data)\n",
    "        osmid = data[\"osm\"][0][\"id\"]            \n",
    "        osmtype = data[\"osm\"][0][\"type\"]              \n",
    "    except:\n",
    "        #print (\"error\")\n",
    "        #print(data)\n",
    "        osmid =\"\"\n",
    "        osmtype =\"\"\n",
    "    new_item['osmid'] = osmid  \n",
    "    new_item['type'] = osmtype \n",
    "    \n",
    "    listGym.append(new_item)\n",
    "print (len(listGym))"
   ]
  },
  {
   "cell_type": "code",
   "execution_count": 6,
   "id": "97bb95a8",
   "metadata": {},
   "outputs": [
    {
     "data": {
      "text/plain": [
       "(1794, 3)"
      ]
     },
     "execution_count": 6,
     "metadata": {},
     "output_type": "execute_result"
    }
   ],
   "source": [
    "OSMtot = pd.DataFrame(listGym,\n",
    "                  columns=['wikidata','type','osmid'])\n",
    "OSMtot.shape\n"
   ]
  },
  {
   "cell_type": "code",
   "execution_count": 7,
   "id": "a36b2560",
   "metadata": {},
   "outputs": [
    {
     "data": {
      "text/html": [
       "<div>\n",
       "<style scoped>\n",
       "    .dataframe tbody tr th:only-of-type {\n",
       "        vertical-align: middle;\n",
       "    }\n",
       "\n",
       "    .dataframe tbody tr th {\n",
       "        vertical-align: top;\n",
       "    }\n",
       "\n",
       "    .dataframe thead th {\n",
       "        text-align: right;\n",
       "    }\n",
       "</style>\n",
       "<table border=\"1\" class=\"dataframe\">\n",
       "  <thead>\n",
       "    <tr style=\"text-align: right;\">\n",
       "      <th></th>\n",
       "      <th>wikidata</th>\n",
       "      <th>type</th>\n",
       "      <th>osmid</th>\n",
       "    </tr>\n",
       "  </thead>\n",
       "  <tbody>\n",
       "    <tr>\n",
       "      <th>0</th>\n",
       "      <td>Q107206033</td>\n",
       "      <td></td>\n",
       "      <td></td>\n",
       "    </tr>\n",
       "    <tr>\n",
       "      <th>1</th>\n",
       "      <td>Q107206129</td>\n",
       "      <td></td>\n",
       "      <td></td>\n",
       "    </tr>\n",
       "    <tr>\n",
       "      <th>2</th>\n",
       "      <td>Q107315418</td>\n",
       "      <td></td>\n",
       "      <td></td>\n",
       "    </tr>\n",
       "    <tr>\n",
       "      <th>3</th>\n",
       "      <td>Q107326096</td>\n",
       "      <td></td>\n",
       "      <td></td>\n",
       "    </tr>\n",
       "    <tr>\n",
       "      <th>4</th>\n",
       "      <td>Q107327233</td>\n",
       "      <td></td>\n",
       "      <td></td>\n",
       "    </tr>\n",
       "    <tr>\n",
       "      <th>5</th>\n",
       "      <td>Q107343382</td>\n",
       "      <td>way</td>\n",
       "      <td>762972071</td>\n",
       "    </tr>\n",
       "    <tr>\n",
       "      <th>6</th>\n",
       "      <td>Q107361377</td>\n",
       "      <td></td>\n",
       "      <td></td>\n",
       "    </tr>\n",
       "    <tr>\n",
       "      <th>7</th>\n",
       "      <td>Q107364893</td>\n",
       "      <td></td>\n",
       "      <td></td>\n",
       "    </tr>\n",
       "    <tr>\n",
       "      <th>8</th>\n",
       "      <td>Q107392918</td>\n",
       "      <td></td>\n",
       "      <td></td>\n",
       "    </tr>\n",
       "    <tr>\n",
       "      <th>9</th>\n",
       "      <td>Q107392924</td>\n",
       "      <td></td>\n",
       "      <td></td>\n",
       "    </tr>\n",
       "  </tbody>\n",
       "</table>\n",
       "</div>"
      ],
      "text/plain": [
       "     wikidata type      osmid\n",
       "0  Q107206033                \n",
       "1  Q107206129                \n",
       "2  Q107315418                \n",
       "3  Q107326096                \n",
       "4  Q107327233                \n",
       "5  Q107343382  way  762972071\n",
       "6  Q107361377                \n",
       "7  Q107364893                \n",
       "8  Q107392918                \n",
       "9  Q107392924                "
      ]
     },
     "execution_count": 7,
     "metadata": {},
     "output_type": "execute_result"
    }
   ],
   "source": [
    "pd.set_option('max_colwidth', 400)\n",
    "OSMtot.head(10)"
   ]
  },
  {
   "cell_type": "code",
   "execution_count": 8,
   "id": "5073b2d5",
   "metadata": {},
   "outputs": [
    {
     "data": {
      "text/plain": [
       "(1351, 3)"
      ]
     },
     "execution_count": 8,
     "metadata": {},
     "output_type": "execute_result"
    }
   ],
   "source": [
    "#OSMempty = OSMtot.osmid.notnull()\n",
    "OSMtot[(OSMtot['osmid']==\"\")].shape"
   ]
  },
  {
   "cell_type": "code",
   "execution_count": 9,
   "id": "131b6b52",
   "metadata": {},
   "outputs": [],
   "source": [
    "OSMEmpty =OSMtot[(OSMtot['osmid']==\"\")]"
   ]
  },
  {
   "cell_type": "code",
   "execution_count": 10,
   "id": "49eb18cb",
   "metadata": {},
   "outputs": [
    {
     "data": {
      "text/plain": [
       "(1351, 3)"
      ]
     },
     "execution_count": 10,
     "metadata": {},
     "output_type": "execute_result"
    }
   ],
   "source": [
    "OSMEmpty.shape"
   ]
  },
  {
   "cell_type": "code",
   "execution_count": 11,
   "id": "d5ce300a",
   "metadata": {},
   "outputs": [
    {
     "data": {
      "text/html": [
       "<div>\n",
       "<style scoped>\n",
       "    .dataframe tbody tr th:only-of-type {\n",
       "        vertical-align: middle;\n",
       "    }\n",
       "\n",
       "    .dataframe tbody tr th {\n",
       "        vertical-align: top;\n",
       "    }\n",
       "\n",
       "    .dataframe thead th {\n",
       "        text-align: right;\n",
       "    }\n",
       "</style>\n",
       "<table border=\"1\" class=\"dataframe\">\n",
       "  <thead>\n",
       "    <tr style=\"text-align: right;\">\n",
       "      <th></th>\n",
       "      <th>wikidata</th>\n",
       "      <th>type</th>\n",
       "      <th>osmid</th>\n",
       "    </tr>\n",
       "  </thead>\n",
       "  <tbody>\n",
       "    <tr>\n",
       "      <th>0</th>\n",
       "      <td>Q107206033</td>\n",
       "      <td></td>\n",
       "      <td></td>\n",
       "    </tr>\n",
       "    <tr>\n",
       "      <th>1</th>\n",
       "      <td>Q107206129</td>\n",
       "      <td></td>\n",
       "      <td></td>\n",
       "    </tr>\n",
       "    <tr>\n",
       "      <th>2</th>\n",
       "      <td>Q107315418</td>\n",
       "      <td></td>\n",
       "      <td></td>\n",
       "    </tr>\n",
       "    <tr>\n",
       "      <th>3</th>\n",
       "      <td>Q107326096</td>\n",
       "      <td></td>\n",
       "      <td></td>\n",
       "    </tr>\n",
       "    <tr>\n",
       "      <th>4</th>\n",
       "      <td>Q107327233</td>\n",
       "      <td></td>\n",
       "      <td></td>\n",
       "    </tr>\n",
       "  </tbody>\n",
       "</table>\n",
       "</div>"
      ],
      "text/plain": [
       "     wikidata type osmid\n",
       "0  Q107206033           \n",
       "1  Q107206129           \n",
       "2  Q107315418           \n",
       "3  Q107326096           \n",
       "4  Q107327233           "
      ]
     },
     "execution_count": 11,
     "metadata": {},
     "output_type": "execute_result"
    }
   ],
   "source": [
    "OSMEmpty.to_csv(\"WD - OSM Outdoor gym missing.csv\")\n",
    "\n",
    "OSMEmpty.head()"
   ]
  },
  {
   "cell_type": "code",
   "execution_count": 12,
   "id": "a2e14af2",
   "metadata": {},
   "outputs": [
    {
     "data": {
      "text/html": [
       "<div>\n",
       "<style scoped>\n",
       "    .dataframe tbody tr th:only-of-type {\n",
       "        vertical-align: middle;\n",
       "    }\n",
       "\n",
       "    .dataframe tbody tr th {\n",
       "        vertical-align: top;\n",
       "    }\n",
       "\n",
       "    .dataframe thead th {\n",
       "        text-align: right;\n",
       "    }\n",
       "</style>\n",
       "<table border=\"1\" class=\"dataframe\">\n",
       "  <thead>\n",
       "    <tr style=\"text-align: right;\">\n",
       "      <th></th>\n",
       "      <th>wikidata</th>\n",
       "      <th>type</th>\n",
       "      <th>osmid</th>\n",
       "    </tr>\n",
       "  </thead>\n",
       "  <tbody>\n",
       "    <tr>\n",
       "      <th>5</th>\n",
       "      <td>Q107343382</td>\n",
       "      <td>way</td>\n",
       "      <td>762972071</td>\n",
       "    </tr>\n",
       "    <tr>\n",
       "      <th>50</th>\n",
       "      <td>Q116257133</td>\n",
       "      <td>way</td>\n",
       "      <td>693757246</td>\n",
       "    </tr>\n",
       "    <tr>\n",
       "      <th>52</th>\n",
       "      <td>Q107443322</td>\n",
       "      <td>way</td>\n",
       "      <td>587305779</td>\n",
       "    </tr>\n",
       "    <tr>\n",
       "      <th>64</th>\n",
       "      <td>Q107393812</td>\n",
       "      <td>way</td>\n",
       "      <td>256690485</td>\n",
       "    </tr>\n",
       "    <tr>\n",
       "      <th>69</th>\n",
       "      <td>Q113990213</td>\n",
       "      <td>node</td>\n",
       "      <td>11004252013</td>\n",
       "    </tr>\n",
       "  </tbody>\n",
       "</table>\n",
       "</div>"
      ],
      "text/plain": [
       "      wikidata  type        osmid\n",
       "5   Q107343382   way    762972071\n",
       "50  Q116257133   way    693757246\n",
       "52  Q107443322   way    587305779\n",
       "64  Q107393812   way    256690485\n",
       "69  Q113990213  node  11004252013"
      ]
     },
     "execution_count": 12,
     "metadata": {},
     "output_type": "execute_result"
    }
   ],
   "source": [
    "OSMConnected=OSMtot[(OSMtot['osmid']!=\"\")]\n",
    "OSMConnected.to_csv(\"WD - OSM Outdoor gym.csv\")\n",
    "OSMConnected.head()"
   ]
  },
  {
   "cell_type": "code",
   "execution_count": 13,
   "id": "0325b013",
   "metadata": {},
   "outputs": [
    {
     "name": "stdout",
     "output_type": "stream",
     "text": [
      "* 20230730 Outdoor gym 1794 ej OSM kopplade 1351\n"
     ]
    }
   ],
   "source": [
    "print(\"*\", start_time.strftime(\"%Y%m%d\"),\"Outdoor gym\", WDGym.shape[0], \"ej OSM kopplade\",OSMEmpty.shape[0]) \n"
   ]
  },
  {
   "cell_type": "markdown",
   "id": "0c4d6920",
   "metadata": {},
   "source": [
    "Generate Markdown table eg.\n",
    "| 20210526     | 2802 | 2050 |1147 | 254 | 213| 84|\n"
   ]
  },
  {
   "cell_type": "code",
   "execution_count": 14,
   "id": "443cee0d",
   "metadata": {},
   "outputs": [
    {
     "name": "stdout",
     "output_type": "stream",
     "text": [
      "| 20230730 | 1794 | 1351 |\n"
     ]
    }
   ],
   "source": [
    "print(\"|\",start_time.strftime(\"%Y%m%d\"),\"|\", \\\n",
    "      WDGym.shape[0],\"|\",OSMEmpty.wikidata.nunique(),\"|\")\n"
   ]
  },
  {
   "cell_type": "code",
   "execution_count": 15,
   "id": "3ba992e0",
   "metadata": {},
   "outputs": [
    {
     "name": "stdout",
     "output_type": "stream",
     "text": [
      "Ended:  2023-07-30 15:09:08.788422\n",
      "Time elapsed (hh:mm:ss.ms) 0:06:19.014490\n"
     ]
    }
   ],
   "source": [
    "end = datetime.now()\n",
    "print(\"Ended: \", end) \n",
    "print('Time elapsed (hh:mm:ss.ms) {}'.format(datetime.now() - start_time))"
   ]
  },
  {
   "cell_type": "code",
   "execution_count": null,
   "id": "0f37d30b",
   "metadata": {},
   "outputs": [],
   "source": []
  },
  {
   "cell_type": "code",
   "execution_count": null,
   "id": "fb296329",
   "metadata": {},
   "outputs": [],
   "source": []
  },
  {
   "cell_type": "code",
   "execution_count": null,
   "id": "324afde3",
   "metadata": {},
   "outputs": [],
   "source": []
  }
 ],
 "metadata": {
  "kernelspec": {
   "display_name": "Python 3",
   "language": "python",
   "name": "python3"
  },
  "language_info": {
   "codemirror_mode": {
    "name": "ipython",
    "version": 3
   },
   "file_extension": ".py",
   "mimetype": "text/x-python",
   "name": "python",
   "nbconvert_exporter": "python",
   "pygments_lexer": "ipython3",
   "version": "3.9.13"
  }
 },
 "nbformat": 4,
 "nbformat_minor": 5
}
